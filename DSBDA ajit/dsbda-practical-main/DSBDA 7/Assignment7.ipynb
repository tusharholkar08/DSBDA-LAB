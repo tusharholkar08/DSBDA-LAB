{
 "cells": [
  {
   "cell_type": "raw",
   "id": "df0f3254",
   "metadata": {},
   "source": [
    "Name:- Sangramsinh Sawant\n",
    "Roll no.: 65 (B) \n"
   ]
  },
  {
   "cell_type": "markdown",
   "id": "ec9ce4c6",
   "metadata": {},
   "source": [
    "# 7. Text Analytics"
   ]
  },
  {
   "cell_type": "raw",
   "id": "e13326e9",
   "metadata": {},
   "source": [
    "1. Extract Sample document and apply following document preprocessing methods:\n",
    "   Tokenization, POS Tagging, stop words removal, Stemming and Lemmatization.\n",
    "2. Create representation of document by calculating Term Frequency and Inverse Document \n",
    "   Frequency."
   ]
  },
  {
   "cell_type": "code",
   "execution_count": 1,
   "id": "0a58f4ca",
   "metadata": {},
   "outputs": [],
   "source": [
    "import nltk"
   ]
  },
  {
   "cell_type": "code",
   "execution_count": 2,
   "id": "207f2d9a",
   "metadata": {},
   "outputs": [
    {
     "name": "stderr",
     "output_type": "stream",
     "text": [
      "[nltk_data] Downloading package punkt to\n",
      "[nltk_data]     C:\\Users\\trupt\\AppData\\Roaming\\nltk_data...\n",
      "[nltk_data]   Package punkt is already up-to-date!\n"
     ]
    },
    {
     "data": {
      "text/plain": [
       "True"
      ]
     },
     "execution_count": 2,
     "metadata": {},
     "output_type": "execute_result"
    }
   ],
   "source": [
    "nltk.download('punkt')"
   ]
  },
  {
   "cell_type": "code",
   "execution_count": 3,
   "id": "b4383e77",
   "metadata": {},
   "outputs": [
    {
     "name": "stderr",
     "output_type": "stream",
     "text": [
      "[nltk_data] Downloading package stopwords to\n",
      "[nltk_data]     C:\\Users\\trupt\\AppData\\Roaming\\nltk_data...\n",
      "[nltk_data]   Package stopwords is already up-to-date!\n"
     ]
    },
    {
     "data": {
      "text/plain": [
       "True"
      ]
     },
     "execution_count": 3,
     "metadata": {},
     "output_type": "execute_result"
    }
   ],
   "source": [
    "nltk.download('stopwords')"
   ]
  },
  {
   "cell_type": "code",
   "execution_count": 4,
   "id": "abc7eb5a",
   "metadata": {},
   "outputs": [
    {
     "name": "stderr",
     "output_type": "stream",
     "text": [
      "[nltk_data] Downloading package wordnet to\n",
      "[nltk_data]     C:\\Users\\trupt\\AppData\\Roaming\\nltk_data...\n",
      "[nltk_data]   Package wordnet is already up-to-date!\n"
     ]
    },
    {
     "data": {
      "text/plain": [
       "True"
      ]
     },
     "execution_count": 4,
     "metadata": {},
     "output_type": "execute_result"
    }
   ],
   "source": [
    "nltk.download('wordnet')"
   ]
  },
  {
   "cell_type": "code",
   "execution_count": 5,
   "id": "d5717a49",
   "metadata": {},
   "outputs": [
    {
     "name": "stderr",
     "output_type": "stream",
     "text": [
      "[nltk_data] Error loading aveerged_perceptron_topper: Package\n",
      "[nltk_data]     'aveerged_perceptron_topper' not found in index\n"
     ]
    },
    {
     "data": {
      "text/plain": [
       "False"
      ]
     },
     "execution_count": 5,
     "metadata": {},
     "output_type": "execute_result"
    }
   ],
   "source": [
    "nltk.download('aveerged_perceptron_topper')"
   ]
  },
  {
   "cell_type": "code",
   "execution_count": 6,
   "id": "4bfbd2b6",
   "metadata": {},
   "outputs": [],
   "source": [
    "text='Tokenization is the  first step in text analyticss. The proccess of breakiing down  a text  paragraph into smaller chunks such  as word  sentences is called Tokenization'"
   ]
  },
  {
   "cell_type": "markdown",
   "id": "8855e769",
   "metadata": {},
   "source": [
    "# Sentence Tokenize"
   ]
  },
  {
   "cell_type": "code",
   "execution_count": 7,
   "id": "cdb1f799",
   "metadata": {},
   "outputs": [
    {
     "name": "stdout",
     "output_type": "stream",
     "text": [
      "['Tokenization is the  first step in text analyticss.', 'The proccess of breakiing down  a text  paragraph into smaller chunks such  as word  sentences is called Tokenization']\n"
     ]
    }
   ],
   "source": [
    "from nltk.tokenize  import sent_tokenize\n",
    "tokenized_text=sent_tokenize(text)\n",
    "print(tokenized_text)"
   ]
  },
  {
   "cell_type": "markdown",
   "id": "eeaacd55",
   "metadata": {},
   "source": [
    "# Word Tokenize"
   ]
  },
  {
   "cell_type": "code",
   "execution_count": 8,
   "id": "23994da0",
   "metadata": {},
   "outputs": [
    {
     "name": "stdout",
     "output_type": "stream",
     "text": [
      "['Tokenization', 'is', 'the', 'first', 'step', 'in', 'text', 'analyticss', '.', 'The', 'proccess', 'of', 'breakiing', 'down', 'a', 'text', 'paragraph', 'into', 'smaller', 'chunks', 'such', 'as', 'word', 'sentences', 'is', 'called', 'Tokenization']\n"
     ]
    }
   ],
   "source": [
    "from nltk.tokenize  import word_tokenize\n",
    "tokenized_word=word_tokenize(text)\n",
    "print(tokenized_word)"
   ]
  },
  {
   "cell_type": "markdown",
   "id": "f936f70c",
   "metadata": {},
   "source": [
    "# Stopwords"
   ]
  },
  {
   "cell_type": "code",
   "execution_count": 9,
   "id": "554300b6",
   "metadata": {},
   "outputs": [
    {
     "name": "stdout",
     "output_type": "stream",
     "text": [
      "{'shouldn', 'here', \"shouldn't\", 'do', 'the', 'y', 'their', 'himself', \"she's\", \"hadn't\", 'from', 'did', 'why', 'very', 'am', 'during', 'those', 'o', 'them', 'just', 'are', 'for', \"doesn't\", 'll', 'or', 't', 'theirs', 'down', 'needn', \"you've\", 'should', 'if', 'having', 'same', 'any', 'shan', 'where', 'have', 'nor', 'i', 'been', \"it's\", 'be', 'this', \"you're\", 'into', 'these', \"should've\", 'yourself', 'him', 'couldn', 'doesn', \"you'd\", 'but', 'against', \"weren't\", 'some', \"needn't\", \"you'll\", 'own', 'how', 'which', 'after', 'my', 'does', 'no', 'it', 'by', 'between', 'her', \"isn't\", 'haven', 'off', 'don', 'you', 'themselves', 'over', 'weren', \"aren't\", 'its', 'your', 'on', 'me', 'all', 'we', 've', 'further', 'more', \"haven't\", 'than', \"hasn't\", 'other', 'yourselves', 'once', 'both', 'each', 'in', 'before', 'hasn', 'ours', 'mightn', 'isn', \"wouldn't\", 'when', \"don't\", 'an', 'too', 'can', 'below', 'yours', 'won', 'as', 'up', 'out', 'ourselves', 'not', 'were', \"mightn't\", 'hers', 'he', 'most', 'his', 'at', 'about', 'who', 'herself', 'so', \"didn't\", 'they', 'myself', 'hadn', 'has', 'with', 're', 'is', 'didn', 'will', 'itself', 'to', 'again', 'mustn', 'only', 'while', 'our', \"shan't\", 'above', 'until', 'aren', 'being', 'through', 'd', \"won't\", 'ain', 'that', 's', 'then', 'wasn', \"that'll\", 'because', 'doing', 'and', 'had', 'whom', 'wouldn', 'such', 'there', 'ma', \"mustn't\", 'was', \"couldn't\", 'a', 'now', 'what', 'm', 'few', 'she', \"wasn't\", 'under', 'of'}\n"
     ]
    }
   ],
   "source": [
    "from nltk.corpus import stopwords\n",
    "stop_words=set(stopwords.words(\"english\"))\n",
    "print(stop_words)"
   ]
  },
  {
   "cell_type": "code",
   "execution_count": 10,
   "id": "d7288519",
   "metadata": {},
   "outputs": [
    {
     "data": {
      "text/plain": [
       "['Tokenization',\n",
       " 'first',\n",
       " 'step',\n",
       " 'text',\n",
       " 'analyticss',\n",
       " '.',\n",
       " 'proccess',\n",
       " 'breakiing',\n",
       " 'text',\n",
       " 'paragraph',\n",
       " 'smaller',\n",
       " 'chunks',\n",
       " 'word',\n",
       " 'sentences',\n",
       " 'called',\n",
       " 'Tokenization']"
      ]
     },
     "execution_count": 10,
     "metadata": {},
     "output_type": "execute_result"
    }
   ],
   "source": [
    "filtered_tokens=[word for word in tokenized_word if word.lower() not in stop_words]\n",
    "filtered_tokens\n"
   ]
  },
  {
   "cell_type": "markdown",
   "id": "a8989ce9",
   "metadata": {},
   "source": [
    "# stemming"
   ]
  },
  {
   "cell_type": "code",
   "execution_count": 11,
   "id": "0a337c4c",
   "metadata": {},
   "outputs": [],
   "source": [
    "#stemming\n",
    "from nltk.stem import PorterStemmer\n",
    "Stemmer = PorterStemmer()\n",
    "Stemmed_tokens=[Stemmer.stem(word)for word in filtered_tokens]"
   ]
  },
  {
   "cell_type": "code",
   "execution_count": 12,
   "id": "51c5dc0e",
   "metadata": {},
   "outputs": [
    {
     "data": {
      "text/plain": [
       "['token',\n",
       " 'first',\n",
       " 'step',\n",
       " 'text',\n",
       " 'analyticss',\n",
       " '.',\n",
       " 'proccess',\n",
       " 'breaki',\n",
       " 'text',\n",
       " 'paragraph',\n",
       " 'smaller',\n",
       " 'chunk',\n",
       " 'word',\n",
       " 'sentenc',\n",
       " 'call',\n",
       " 'token']"
      ]
     },
     "execution_count": 12,
     "metadata": {},
     "output_type": "execute_result"
    }
   ],
   "source": [
    "Stemmed_tokens"
   ]
  },
  {
   "cell_type": "markdown",
   "id": "62a8c83a",
   "metadata": {},
   "source": [
    "# Lemmatization"
   ]
  },
  {
   "cell_type": "code",
   "execution_count": 13,
   "id": "6973bff7",
   "metadata": {},
   "outputs": [
    {
     "name": "stderr",
     "output_type": "stream",
     "text": [
      "[nltk_data] Downloading package omw-1.4 to\n",
      "[nltk_data]     C:\\Users\\trupt\\AppData\\Roaming\\nltk_data...\n",
      "[nltk_data]   Package omw-1.4 is already up-to-date!\n"
     ]
    },
    {
     "data": {
      "text/plain": [
       "True"
      ]
     },
     "execution_count": 13,
     "metadata": {},
     "output_type": "execute_result"
    }
   ],
   "source": [
    "import nltk\n",
    "nltk.download('omw-1.4')\n"
   ]
  },
  {
   "cell_type": "code",
   "execution_count": 14,
   "id": "5c5a5ad6",
   "metadata": {},
   "outputs": [],
   "source": [
    "from nltk.stem import WordNetLemmatizer\n",
    "lemmatizer = WordNetLemmatizer()\n",
    "lemmatized_tokens = [lemmatizer.lemmatize(word) for word in filtered_tokens]\n",
    "\n"
   ]
  },
  {
   "cell_type": "code",
   "execution_count": 15,
   "id": "ea4aeefe",
   "metadata": {},
   "outputs": [
    {
     "data": {
      "text/plain": [
       "['Tokenization',\n",
       " 'first',\n",
       " 'step',\n",
       " 'text',\n",
       " 'analyticss',\n",
       " '.',\n",
       " 'proccess',\n",
       " 'breakiing',\n",
       " 'text',\n",
       " 'paragraph',\n",
       " 'smaller',\n",
       " 'chunk',\n",
       " 'word',\n",
       " 'sentence',\n",
       " 'called',\n",
       " 'Tokenization']"
      ]
     },
     "execution_count": 15,
     "metadata": {},
     "output_type": "execute_result"
    }
   ],
   "source": [
    "lemmatized_tokens"
   ]
  },
  {
   "cell_type": "markdown",
   "id": "f66ff1c8",
   "metadata": {},
   "source": [
    "# Pos Tagging"
   ]
  },
  {
   "cell_type": "code",
   "execution_count": 17,
   "id": "b42750f0",
   "metadata": {},
   "outputs": [
    {
     "name": "stderr",
     "output_type": "stream",
     "text": [
      "[nltk_data] Downloading package averaged_perceptron_tagger to\n",
      "[nltk_data]     C:\\Users\\trupt\\AppData\\Roaming\\nltk_data...\n",
      "[nltk_data]   Unzipping taggers\\averaged_perceptron_tagger.zip.\n"
     ]
    },
    {
     "data": {
      "text/plain": [
       "True"
      ]
     },
     "execution_count": 17,
     "metadata": {},
     "output_type": "execute_result"
    }
   ],
   "source": [
    "import nltk\n",
    "nltk.download('averaged_perceptron_tagger')\n"
   ]
  },
  {
   "cell_type": "code",
   "execution_count": 18,
   "id": "d45bbdbd",
   "metadata": {},
   "outputs": [
    {
     "data": {
      "text/plain": [
       "[('Tokenization', 'NN'),\n",
       " ('is', 'VBZ'),\n",
       " ('the', 'DT'),\n",
       " ('first', 'JJ'),\n",
       " ('step', 'NN'),\n",
       " ('in', 'IN'),\n",
       " ('text', 'JJ'),\n",
       " ('analyticss', 'NN'),\n",
       " ('.', '.'),\n",
       " ('The', 'DT'),\n",
       " ('proccess', 'NN'),\n",
       " ('of', 'IN'),\n",
       " ('breakiing', 'VBG'),\n",
       " ('down', 'RP'),\n",
       " ('a', 'DT'),\n",
       " ('text', 'NN'),\n",
       " ('paragraph', 'NN'),\n",
       " ('into', 'IN'),\n",
       " ('smaller', 'JJR'),\n",
       " ('chunks', 'NNS'),\n",
       " ('such', 'JJ'),\n",
       " ('as', 'IN'),\n",
       " ('word', 'NN'),\n",
       " ('sentences', 'NNS'),\n",
       " ('is', 'VBZ'),\n",
       " ('called', 'VBN'),\n",
       " ('Tokenization', 'NN')]"
      ]
     },
     "execution_count": 18,
     "metadata": {},
     "output_type": "execute_result"
    }
   ],
   "source": [
    "#Pos tagging\n",
    "from nltk import pos_tag\n",
    "pos=pos_tag(tokenized_word)\n",
    "pos"
   ]
  },
  {
   "cell_type": "code",
   "execution_count": 19,
   "id": "e0af566c",
   "metadata": {},
   "outputs": [],
   "source": [
    "import re"
   ]
  },
  {
   "cell_type": "code",
   "execution_count": 20,
   "id": "4fb7261a",
   "metadata": {},
   "outputs": [
    {
     "name": "stdout",
     "output_type": "stream",
     "text": [
      "Tokenized Sentence :  ['how', 'to', 'remove', 'stop', 'words', 'with', 'nlkt', 'library', 'in', 'python']\n",
      "Filterd sentence : ['remove', 'stop', 'words', 'nlkt', 'library', 'python']\n"
     ]
    }
   ],
   "source": [
    "text=\"How to remove stop words  with NLKT library in Python ?\"\n",
    "text=re.sub('[^a-zA-Z]', ' ',text)\n",
    "tokens = word_tokenize(text.lower())\n",
    "filtered_text=[]\n",
    "\n",
    "for w  in tokens:\n",
    "    if w not in stop_words:\n",
    "        filtered_text.append(w)\n",
    "print(\"Tokenized Sentence : \",tokens)\n",
    "print(\"Filterd sentence :\",filtered_text)"
   ]
  }
 ],
 "metadata": {
  "kernelspec": {
   "display_name": "Python 3 (ipykernel)",
   "language": "python",
   "name": "python3"
  },
  "language_info": {
   "codemirror_mode": {
    "name": "ipython",
    "version": 3
   },
   "file_extension": ".py",
   "mimetype": "text/x-python",
   "name": "python",
   "nbconvert_exporter": "python",
   "pygments_lexer": "ipython3",
   "version": "3.8.10"
  }
 },
 "nbformat": 4,
 "nbformat_minor": 5
}
